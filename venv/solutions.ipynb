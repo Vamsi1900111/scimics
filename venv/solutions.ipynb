{
 "cells": [
  {
   "cell_type": "code",
   "execution_count": null,
   "metadata": {},
   "outputs": [],
   "source": [
    "#happy:\n",
    "class Solution:\n",
    "    def isHappy( self,n,prev=[]):\n",
    "        nums = sum([int(x)**2 for x in list(str(n))])\n",
    "        if nums in prev:\n",
    "            return False\n",
    "        return self.isHappy(nums, prev+[nums]) if nums!=1 else True"
   ]
  },
  {
   "cell_type": "code",
   "execution_count": 3,
   "metadata": {},
   "outputs": [],
   "source": [
    "# difference:-\n",
    "class Solution:\n",
    "    def differenceOfSum(self, nums):\n",
    "        def element_sum(arr):\n",
    "            return sum(arr)\n",
    "        def digit_sum(arr):\n",
    "            total = 0\n",
    "            for num in arr:\n",
    "                while num > 0:\n",
    "                    total += num % 10\n",
    "                    num //= 10\n",
    "            return total\n",
    "        elem_sum = element_sum(nums)\n",
    "        dig_sum = digit_sum(nums)\n",
    "        return elem_sum-dig_sum"
   ]
  },
  {
   "cell_type": "code",
   "execution_count": null,
   "metadata": {},
   "outputs": [],
   "source": [
    "# perfect square:-\n",
    "class Solution:\n",
    "    def isPerfectSquare(self, num):\n",
    "        for i in range(num+1):\n",
    "            if i*i>num:\n",
    "                break\n",
    "            if i*i==num:\n",
    "                return True\n",
    "        return False"
   ]
  },
  {
   "cell_type": "code",
   "execution_count": null,
   "metadata": {},
   "outputs": [],
   "source": [
    "# obtain zeros:-\n",
    "class Solution:\n",
    "    def countOperations(self, num1, num2):\n",
    "        count=0\n",
    "        while(num1!=0 and num2!=0):\n",
    "            if num1>=num2:\n",
    "                num1 = num1-num2\n",
    "            elif num2>num1:\n",
    "                num2 = num2-num1\n",
    "            count+=1\n",
    "        return count"
   ]
  },
  {
   "cell_type": "code",
   "execution_count": null,
   "metadata": {},
   "outputs": [],
   "source": [
    "# insert position:-\n",
    "class Solution:\n",
    "    def searchInsert(self, nums, target):\n",
    "        for i in range(len(nums)):\n",
    "            if target in nums:\n",
    "                return nums.index(target)\n",
    "            else:\n",
    "                nums.append(target)\n",
    "                nums.sort()\n",
    "                return nums.index(target)"
   ]
  }
 ],
 "metadata": {
  "kernelspec": {
   "display_name": "Python 3",
   "language": "python",
   "name": "python3"
  },
  "language_info": {
   "codemirror_mode": {
    "name": "ipython",
    "version": 3
   },
   "file_extension": ".py",
   "mimetype": "text/x-python",
   "name": "python",
   "nbconvert_exporter": "python",
   "pygments_lexer": "ipython3",
   "version": "3.11.3"
  }
 },
 "nbformat": 4,
 "nbformat_minor": 2
}
